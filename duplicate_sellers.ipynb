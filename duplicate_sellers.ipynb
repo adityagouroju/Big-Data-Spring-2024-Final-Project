{
 "cells": [
  {
   "cell_type": "code",
   "execution_count": 7,
   "id": "37b677d0",
   "metadata": {},
   "outputs": [
    {
     "name": "stderr",
     "output_type": "stream",
     "text": [
      "                                                                                \r"
     ]
    },
    {
     "name": "stdout",
     "output_type": "stream",
     "text": [
      "+--------------------+--------------------+--------------------+--------------------+--------------------+------+--------+--------------------+--------------------+------------+---------------+-----------------+--------------------+------------+\n",
      "|               title|         description|              seller|            location|             country| price|currency|                  id|                 url|      domain|predicted_label|            match|         animal_name|product_type|\n",
      "+--------------------+--------------------+--------------------+--------------------+--------------------+------+--------+--------------------+--------------------+------------+---------------+-----------------+--------------------+------------+\n",
      "|10 OSTRICH FEATHE...|10 OSTRICH Feathe...|       thefeatherguy|Flushing, New Yor...|       United States| 70.99|     USD|4585214d-b4d7-4c0...|http://picclick.c...|picclick.com|            1.0|          Ostrich|             Ostrich|     feather|\n",
      "|1 PCS REAL Ostric...|1 Pcs Real Ostric...|          benel_7507|        shenzhen, CN|People’s Republic...|  53.0|     USD|fcb9fb2d-a260-446...|http://picclick.c...|picclick.com|            1.0|          Ostrich|             Ostrich|       skull|\n",
      "|ðŞ\"¥ðŞŠˆMEGALODON...|ðŞ\"¥ðŞŠˆMegalodon...|    fossils_from_ray|Battleboro, North...|       United States|  30.0|     USD|3b76c636-fa9f-492...|http://picclick.c...|picclick.com|            1.0|            shark|         Silky shark|       Teeth|\n",
      "|1.25 INCH SAND Ti...|1.25 inch Sand Ti...|           supete-28|Saint Paul, Minne...|Republic of Trini...|  25.0|     USD|6ee420cb-94f3-4bd...|http://picclick.c...|picclick.com|            1.0| Sand tiger shark|    Sand tiger shark|       tooth|\n",
      "|0.92\" CARCHARHINU...|0.92\" Carcharhinu...|      blueskyfossils|Sarasota, Florida...|       United States|  7.99|     USD|5744e9e6-d378-4e1...|http://picclick.c...|picclick.com|            1.0|     Carcharhinus|Carcharhinus falc...|       tooth|\n",
      "|10 BIG EYE Diablo...|10 Big Eye Diablo...|          goodwin808|Port Saint Lucie,...|Oriental Republic...| 16.69|     USD|1acc569f-998b-447...|http://picclick.c...|picclick.com|            1.0|          Redfish|             Redfish|        null|\n",
      "|(4) 1.5 OZ Silver...|(4) 1.5 oz Silver...|         welloverpar|   Vernon, Texas, US|       United States| 180.0|     USD|ca85022a-122b-454...|http://picclick.c...|picclick.com|            1.0|            white|   Great white shark|        null|\n",
      "|10 OSTRICH FEATHE...|10 OSTRICH Feathe...|       thefeatherguy|Flushing, New Yor...|       United States|103.99|     USD|a3c9ad4b-13af-4da...|http://picclick.c...|picclick.com|            1.0|          Ostrich|             Ostrich|        wing|\n",
      "|Ìî•MEGALODON SHA...|Ìî•Megalodon Sha...|    fossils_from_ray|Battleboro, North...|       United States|  12.0|     USD|0912bc47-e124-416...|http://picclick.c...|picclick.com|            1.0|            shark|         Silky shark|       tooth|\n",
      "|10 FOSSIL  Shark ...|10 Fossil Shark T...|omnifariousartifacts|Asheville, North ...|       United States| 14.95|     USD|923125d5-7727-402...|http://picclick.c...|picclick.com|            1.0|            shark|         Silky shark|       Teeth|\n",
      "|1-11/16 INCH GREA...|1-11/16 inch GREA...|        toothsleuth0|Charlotte, North ...|Saint Vincent and...|  44.0|     USD|fb02072c-f345-45a...|http://picclick.c...|picclick.com|            1.0|Great white shark|   Great white shark|       tooth|\n",
      "|1/2 LB+ MEGALODON...|1/2 lb+ Megalodon...|          tooffinder| Oviedo, Florida, US|  Dominican Republic| 125.0|     USD|536ec5bb-a0d1-4ef...|http://picclick.c...|picclick.com|            1.0|            shark|         Silky shark|       tooth|\n",
      "|1 1/4\" GENUINE Ha...|1 1/4\" Genuine Ha...|  lone_star_treasure|  El Paso, Texas, US|       United States| 135.0|     USD|3f6634fa-30cf-473...|http://picclick.c...|picclick.com|            1.0|          Ostrich|             Ostrich|       quill|\n",
      "|Ìî•̶àMEGALODON ...|Ìî•̶àMegalodon ...|    fossils_from_ray|Battleboro, North...|       United States| 120.0|     USD|fd9a9103-5212-47c...|http://picclick.c...|picclick.com|            1.0|            shark|         Silky shark|       tooth|\n",
      "|Ìî•OTODUS OBLIQU...|Ìî•Otodus obliqu...|    fossils_from_ray|Battleboro, North...|       United States|  80.0|     USD|e71bfc15-d9da-4cf...|http://picclick.c...|picclick.com|            1.0|            shark|         Silky shark|       tooth|\n",
      "| FOSSIL GREAT WHI...|Fossil Great Whit...|       fossilsonline| Venice, Florida, US|    Italian Republic| 102.0|     USD|e3cc9c9f-6ab2-4fb...|http://picclick.c...|picclick.com|            1.0|Great white shark|   Great white shark|       tooth|\n",
      "|10 HTLURECO BULLE...|10 HTLURECO Bulle...|            htlureco|Horseheads, New Y...|       United States| 19.84|     USD|83a1c24f-978c-4eb...|http://picclick.c...|picclick.com|            1.0|          Redfish|             Redfish|        null|\n",
      "|16.5\" ANTIQUE MIN...|16.5\" Antique min...|             aping30|         NANYANG, CN|People’s Republic...|1105.0|     USD|15a8804f-c9e4-4ab...|http://picclick.c...|picclick.com|            1.0|            white|   Great white shark|        null|\n",
      "|METAL 18\" WIDE Tr...|Metal 18\" Wide Tr...|         warnerve777|Fort Worth, Texas...|       United States|  58.0|     USD|413eb5b2-5915-434...|http://picclick.c...|picclick.com|            1.0|            shark|         Silky shark|        null|\n",
      "|10 BLACK PAINTED ...|10 Black Painted ...|          alrobins68|Waterford, Wiscon...|             Jamaica|  7.99|     USD|2fb67f91-3a10-443...|http://picclick.c...|picclick.com|            1.0|          Redfish|             Redfish|        null|\n",
      "+--------------------+--------------------+--------------------+--------------------+--------------------+------+--------+--------------------+--------------------+------------+---------------+-----------------+--------------------+------------+\n",
      "only showing top 20 rows\n",
      "\n"
     ]
    }
   ],
   "source": [
    "#vv2289  - Vamshi\n",
    "\n",
    "import csv\n",
    "import pandas as pd\n",
    "import sys\n",
    "from pyspark import SparkContext, SparkConf\n",
    "from pyspark.sql import SparkSession\n",
    "from csv import reader\n",
    "\n",
    "cf = SparkConf()\n",
    "cf.set(\"spark.submit.deployMode\", \"client\")\n",
    "sc = SparkContext.getOrCreate(cf)\n",
    "    \n",
    "spark = SparkSession.builder.appName(\"Python Spark SQL basic example\") \\\n",
    "        .config(\"spark.some.config.option\", \"some-value\") \\\n",
    "        .getOrCreate()\n",
    "\n",
    "csv_path = \"/shared/dataWildlife/filtered_copy.csv\"\n",
    "\n",
    "df =spark.read.option(\"escape\", \"\\\"\").option('quote',\"\\\"\").option(\"multiline\", True).csv(csv_path, inferSchema=True, header=True)\n",
    "\n",
    "df_filtered = df.filter(df[\"animal_name\"] != \"\")\n",
    "df_filtered = df_filtered.filter(df_filtered[\"seller\"] != \"\")\n",
    "\n",
    "df_filtered.show()\n",
    "\n",
    "\n",
    "\n"
   ]
  },
  {
   "cell_type": "code",
   "execution_count": 10,
   "id": "c9f62960",
   "metadata": {},
   "outputs": [
    {
     "name": "stderr",
     "output_type": "stream",
     "text": [
      "[Stage 10:>                                                         (0 + 1) / 1]\r"
     ]
    },
    {
     "name": "stdout",
     "output_type": "stream",
     "text": [
      "+----------------+----------------+--------------------+--------------------+--------------------+--------------------+--------------------+--------------------+-----+---------------+--------+------------------+--------------------+--------------------+----------+\n",
      "|          seller|duplicate_seller|               title|     duplicate_title|            location|  duplicate_location|             country|   duplicate_country|price|duplicate_price|currency|duplicate_currency|                 url|       duplicate_url|similarity|\n",
      "+----------------+----------------+--------------------+--------------------+--------------------+--------------------+--------------------+--------------------+-----+---------------+--------+------------------+--------------------+--------------------+----------+\n",
      "|      benel_7507|      jewelry888|1 PCS REAL Ostric...|3 PCS REAL Ostric...|        shenzhen, CN| YiwuïŒZhejiang, CN|People’s Republic...|    Italian Republic| 53.0|          86.99|     USD|               USD|http://picclick.c...|http://picclick.c...|        94|\n",
      "|      benel_7507|      jewelry888|1 PCS REAL Ostric...|2 PCS REAL Ostric...|        shenzhen, CN| YiwuïŒZhejiang, CN|People’s Republic...|    Italian Republic| 53.0|          59.99|     USD|               USD|http://picclick.c...|http://picclick.c...|        95|\n",
      "|      benel_7507|   tanzhenhai158|1 PCS REAL Ostric...|3 PCS REAL Ostric...|        shenzhen, CN| YiwuïŒZhejiang, CN|People’s Republic...|    Italian Republic| 53.0|          86.99|     USD|               USD|http://picclick.c...|http://picclick.c...|        94|\n",
      "|      benel_7507|   tanzhenhai158|1 PCS REAL Ostric...|1 PCS REAL Ostric...|        shenzhen, CN| YiwuïŒZhejiang, CN|People’s Republic...|    Italian Republic| 53.0|           31.9|     USD|               USD|http://picclick.c...|http://picclick.c...|        96|\n",
      "|      benel_7507|      jewelry888|1 PCS REAL Ostric...|1 PCS REAL Ostric...|        shenzhen, CN| YiwuïŒZhejiang, CN|People’s Republic...|    Italian Republic| 53.0|           31.9|     USD|               USD|http://picclick.c...|http://picclick.c...|        96|\n",
      "|      benel_7507|       sexywh-13|1 PCS REAL Ostric...|1 PCS REAL Ostric...|        shenzhen, CN|        shenzhen, CN|People’s Republic...|People’s Republic...| 53.0|          50.35|     USD|               USD|http://picclick.c...|http://picclick.c...|        96|\n",
      "|       sexywh-13|      jewelry888|1 PCS REAL Ostric...|3 PCS REAL Ostric...|        shenzhen, CN| YiwuïŒZhejiang, CN|People’s Republic...|    Italian Republic|50.35|          86.99|     USD|               USD|http://picclick.c...|http://picclick.c...|        94|\n",
      "|       sexywh-13|      jewelry888|1 PCS REAL Ostric...|2 PCS REAL Ostric...|        shenzhen, CN| YiwuïŒZhejiang, CN|People’s Republic...|    Italian Republic|50.35|          59.99|     USD|               USD|http://picclick.c...|http://picclick.c...|        95|\n",
      "|       sexywh-13|   tanzhenhai158|1 PCS REAL Ostric...|3 PCS REAL Ostric...|        shenzhen, CN| YiwuïŒZhejiang, CN|People’s Republic...|    Italian Republic|50.35|          86.99|     USD|               USD|http://picclick.c...|http://picclick.c...|        94|\n",
      "|       sexywh-13|   tanzhenhai158|1 PCS REAL Ostric...|1 PCS REAL Ostric...|        shenzhen, CN| YiwuïŒZhejiang, CN|People’s Republic...|    Italian Republic|50.35|           31.9|     USD|               USD|http://picclick.c...|http://picclick.c...|        95|\n",
      "|       sexywh-13|      jewelry888|1 PCS REAL Ostric...|1 PCS REAL Ostric...|        shenzhen, CN| YiwuïŒZhejiang, CN|People’s Republic...|    Italian Republic|50.35|           31.9|     USD|               USD|http://picclick.c...|http://picclick.c...|        95|\n",
      "|       sexywh-13|      benel_7507|1 PCS REAL Ostric...|1 PCS REAL Ostric...|        shenzhen, CN|        shenzhen, CN|People’s Republic...|People’s Republic...|50.35|           53.0|     USD|               USD|http://picclick.c...|http://picclick.c...|        96|\n",
      "|     yestopsales|       zoustores|1X NATURAL CARVED...|1X NATURAL CARVED...|          Jinhua, CN|          Jinhua, CN|                null|People’s Republic...| 5.29|           5.68|     USD|               USD|http://picclick.c...|http://picclick.c...|        97|\n",
      "|     yestopsales|        ylystore|1X NATURAL CARVED...|1X NATURAL CARVED...|          Jinhua, CN|          Jinhua, CN|                null|People’s Republic...| 5.29|           5.49|     USD|               USD|http://picclick.c...|http://picclick.c...|        98|\n",
      "|      tooffinder|     h_sargent77|HEMIPRISTIS SHARK...|HEMIPRISTIS SHARK...| Oviedo, Florida, US|Bradenton, Florid...|  Dominican Republic|Oriental Republic...| 15.0|           18.0|     USD|               USD|http://picclick.c...|http://picclick.c...|        98|\n",
      "|allaboutlearning|  selltotheworld|2 CM CLEAR Resin ...|2 CM CLEAR Resin ...|Chai Wan, Hong Ko...|       Hong Kong, HK| Kingdom of Thailand|Hong Kong Special...|14.99|          16.99|     USD|               USD|http://picclick.c...|http://picclick.c...|        97|\n",
      "|      jewelry888|   tanzhenhai158|1 PCS REAL Ostric...|3 PCS REAL Ostric...| YiwuïŒZhejiang, CN| YiwuïŒZhejiang, CN|    Italian Republic|    Italian Republic| 31.9|          86.99|     USD|               USD|http://picclick.c...|http://picclick.c...|        95|\n",
      "|      jewelry888|   tanzhenhai158|1 PCS REAL Ostric...|1 PCS REAL Ostric...| YiwuïŒZhejiang, CN| YiwuïŒZhejiang, CN|    Italian Republic|    Italian Republic| 31.9|           31.9|     USD|               USD|http://picclick.c...|http://picclick.c...|       100|\n",
      "|      jewelry888|       sexywh-13|1 PCS REAL Ostric...|1 PCS REAL Ostric...| YiwuïŒZhejiang, CN|        shenzhen, CN|    Italian Republic|People’s Republic...| 31.9|          50.35|     USD|               USD|http://picclick.c...|http://picclick.c...|        95|\n",
      "|      jewelry888|      benel_7507|1 PCS REAL Ostric...|1 PCS REAL Ostric...| YiwuïŒZhejiang, CN|        shenzhen, CN|    Italian Republic|People’s Republic...| 31.9|           53.0|     USD|               USD|http://picclick.c...|http://picclick.c...|        96|\n",
      "+----------------+----------------+--------------------+--------------------+--------------------+--------------------+--------------------+--------------------+-----+---------------+--------+------------------+--------------------+--------------------+----------+\n",
      "only showing top 20 rows\n",
      "\n"
     ]
    },
    {
     "name": "stderr",
     "output_type": "stream",
     "text": [
      "\r\n",
      "                                                                                \r"
     ]
    }
   ],
   "source": [
    "from pyspark.sql.functions import udf, col\n",
    "from pyspark.sql.types import IntegerType\n",
    "\n",
    "def simple_fuzzy_match(str1, str2):\n",
    "    str1, str2 = str1.lower(), str2.lower()\n",
    "    matches = sum((1 for a, b in zip(str1, str2) if a == b))\n",
    "    max_length = max(len(str1), len(str2))\n",
    "    return int((matches / max_length) * 100) if max_length != 0 else 0\n",
    "\n",
    "fuzzy_match_udf = udf(simple_fuzzy_match, IntegerType())\n",
    "\n",
    "def find_duplicates(df, limiter=5000):\n",
    "    df1 = df.alias('df1')\n",
    "    df2 = df.alias('df2')\n",
    "    \n",
    "    condition = (df1.animal_name == df2.animal_name) & \\\n",
    "                (df1.product_type == df2.product_type) & \\\n",
    "                (df1.seller != df2.seller)\n",
    "    joined_df = df1.join(df2, condition)\n",
    "    \n",
    "    result_df = joined_df.withColumn(\"similarity\", fuzzy_match_udf(col(\"df1.title\"), col(\"df2.title\")))\n",
    "    filtered_df = result_df.filter(col(\"similarity\") >= 90)  \n",
    "\n",
    "    final_df = filtered_df.select(\n",
    "        col(\"df1.seller\").alias(\"seller\"),\n",
    "        col(\"df2.seller\").alias(\"duplicate_seller\"),\n",
    "        col(\"df1.title\").alias(\"title\"),\n",
    "        col(\"df2.title\").alias(\"duplicate_title\"),\n",
    "        col(\"df1.location\").alias(\"location\"),\n",
    "        col(\"df2.location\").alias(\"duplicate_location\"),\n",
    "        col(\"df1.country\").alias(\"country\"),\n",
    "        col(\"df2.country\").alias(\"duplicate_country\"),\n",
    "        col(\"df1.price\").alias(\"price\"),\n",
    "        col(\"df2.price\").alias(\"duplicate_price\"),\n",
    "        col(\"df1.currency\").alias(\"currency\"),\n",
    "        col(\"df2.currency\").alias(\"duplicate_currency\"),\n",
    "        col(\"df1.url\").alias(\"url\"),\n",
    "        col(\"df2.url\").alias(\"duplicate_url\"),\n",
    "        \"similarity\"\n",
    "    )\n",
    "    \n",
    "    limited_df = final_df.limit(limiter)\n",
    "    return limited_df\n",
    "\n",
    "duplicates_df = find_duplicates(df_filtered, limiter=5000)\n",
    "duplicates_df.show()"
   ]
  },
  {
   "cell_type": "code",
   "execution_count": 11,
   "id": "d98e4e19",
   "metadata": {},
   "outputs": [
    {
     "name": "stderr",
     "output_type": "stream",
     "text": [
      "                                                                                \r"
     ]
    }
   ],
   "source": [
    "import csv\n",
    "from csv import reader\n",
    "duplicates_df.write.csv('duplicate_seller_details.csv', header=True, mode=\"overwrite\")\n"
   ]
  },
  {
   "cell_type": "code",
   "execution_count": 12,
   "id": "b18c86ac",
   "metadata": {},
   "outputs": [
    {
     "name": "stderr",
     "output_type": "stream",
     "text": [
      "[Stage 17:>                                                         (0 + 1) / 1]\r"
     ]
    },
    {
     "name": "stdout",
     "output_type": "stream",
     "text": [
      "+--------------------+--------------------+-----+\n",
      "|              seller|    duplicate_seller|count|\n",
      "+--------------------+--------------------+-----+\n",
      "|bigbangbigbangbig...|              yumeny|  287|\n",
      "|            vewof-26|              xbx-my|  189|\n",
      "|              xbx-my|            vewof-26|  176|\n",
      "|           dreamroom|            vewof-26|  167|\n",
      "|              yumeny|bigbangbigbangbig...|  157|\n",
      "|      selltotheworld|    allaboutlearning|  130|\n",
      "|            vewof-26|           dreamroom|  119|\n",
      "|    allaboutlearning|      selltotheworld|  112|\n",
      "|       luoqipeng5816|            vewof-26|  111|\n",
      "|       luoqipeng5816|           dreamroom|   96|\n",
      "|           sunnyrain|            redpeach|   92|\n",
      "| goldengoosejewelers|    jewelry4less_atl|   90|\n",
      "|     la-na-time-shop|          shendgjgfu|   81|\n",
      "|            gaofudev|    allaboutlearning|   73|\n",
      "|    jewelry4less_atl| goldengoosejewelers|   72|\n",
      "|            redpeach|           sunnyrain|   71|\n",
      "|   nastiaahstrinkets|      aqhatrailrider|   70|\n",
      "|          maycocomay|        blinkfan_169|   61|\n",
      "|           dreamroom|       luoqipeng5816|   56|\n",
      "|      aqhatrailrider|   nastiaahstrinkets|   56|\n",
      "+--------------------+--------------------+-----+\n",
      "only showing top 20 rows\n",
      "\n"
     ]
    },
    {
     "name": "stderr",
     "output_type": "stream",
     "text": [
      "\r\n",
      "                                                                                \r"
     ]
    }
   ],
   "source": [
    "from pyspark.sql.functions import col\n",
    "\n",
    "seller_pairs_count = duplicates_df.groupBy(\"seller\", \"duplicate_seller\").count()\n",
    "\n",
    "sorted_seller_pairs_count = seller_pairs_count.orderBy(col(\"count\").desc())\n",
    "\n",
    "sorted_seller_pairs_count.show()\n"
   ]
  },
  {
   "cell_type": "code",
   "execution_count": 14,
   "id": "0bfa4dce",
   "metadata": {},
   "outputs": [
    {
     "name": "stderr",
     "output_type": "stream",
     "text": [
      "                                                                                \r"
     ]
    },
    {
     "name": "stdout",
     "output_type": "stream",
     "text": [
      "+--------------------+--------------------+---------+\n",
      "|              seller|    duplicate_seller|max_count|\n",
      "+--------------------+--------------------+---------+\n",
      "|bigbangbigbangbig...|              yumeny|      287|\n",
      "|            vewof-26|              xbx-my|      189|\n",
      "|           dreamroom|            vewof-26|      167|\n",
      "|    allaboutlearning|      selltotheworld|      130|\n",
      "|       luoqipeng5816|            vewof-26|      111|\n",
      "|           dreamroom|       luoqipeng5816|       96|\n",
      "|            redpeach|           sunnyrain|       92|\n",
      "| goldengoosejewelers|    jewelry4less_atl|       90|\n",
      "|     la-na-time-shop|          shendgjgfu|       81|\n",
      "|    allaboutlearning|            gaofudev|       73|\n",
      "|      aqhatrailrider|   nastiaahstrinkets|       70|\n",
      "|        blinkfan_169|          maycocomay|       61|\n",
      "|bigbangbigbangbig...|       miniyellowcat|       55|\n",
      "|     aquariumzonetoo|        yebenstore03|       54|\n",
      "|         baymax_2015|bigbangbigbangbig...|       52|\n",
      "|             lus8968|              yumeny|       52|\n",
      "|bigbangbigbangbig...|             lus8968|       52|\n",
      "|         baymax_2015|              yumeny|       52|\n",
      "|            gaofudev|      selltotheworld|       49|\n",
      "|       smooth-dealer|         xiatian8899|       48|\n",
      "+--------------------+--------------------+---------+\n",
      "only showing top 20 rows\n",
      "\n"
     ]
    },
    {
     "name": "stderr",
     "output_type": "stream",
     "text": [
      "                                                                                \r"
     ]
    }
   ],
   "source": [
    "from pyspark.sql.functions import concat_ws, col, lit, split, max as spark_max\n",
    "import pyspark.sql.functions as F\n",
    "\n",
    "sorted_seller_pairs_count = sorted_seller_pairs_count.withColumn(\n",
    "    \"normalized_pair\",\n",
    "    concat_ws(\",\", \n",
    "              F.sort_array(F.array(\"seller\", \"duplicate_seller\")))\n",
    ")\n",
    "\n",
    "max_pairs_df = sorted_seller_pairs_count.groupBy(\"normalized_pair\").agg(\n",
    "    spark_max(\"count\").alias(\"max_count\")\n",
    ")\n",
    "\n",
    "max_pairs_df = max_pairs_df.withColumn(\n",
    "    \"seller\", split(col(\"normalized_pair\"), \",\").getItem(0)\n",
    ").withColumn(\n",
    "    \"duplicate_seller\", split(col(\"normalized_pair\"), \",\").getItem(1)\n",
    ").select(\n",
    "    \"seller\", \"duplicate_seller\", \"max_count\"\n",
    ")\n",
    "\n",
    "max_pairs_df = max_pairs_df.orderBy(col(\"max_count\").desc())\n",
    "\n",
    "max_pairs_df.show()\n",
    "\n",
    "max_pairs_df.write.csv('seller_match_count.csv', header=True, mode=\"overwrite\")\n"
   ]
  },
  {
   "cell_type": "code",
   "execution_count": null,
   "id": "4ea234ff",
   "metadata": {},
   "outputs": [],
   "source": []
  }
 ],
 "metadata": {
  "kernelspec": {
   "display_name": "Python 3 (ipykernel)",
   "language": "python",
   "name": "python3"
  },
  "language_info": {
   "codemirror_mode": {
    "name": "ipython",
    "version": 3
   },
   "file_extension": ".py",
   "mimetype": "text/x-python",
   "name": "python",
   "nbconvert_exporter": "python",
   "pygments_lexer": "ipython3",
   "version": "3.8.15"
  }
 },
 "nbformat": 4,
 "nbformat_minor": 5
}
